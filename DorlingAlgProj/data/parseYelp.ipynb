{
 "metadata": {
  "name": "",
  "signature": "sha256:e2a974d5b50292c81716ae21982049f2af1c944accfa0036a308579b8d037ce3"
 },
 "nbformat": 3,
 "nbformat_minor": 0,
 "worksheets": [
  {
   "cells": [
    {
     "cell_type": "code",
     "collapsed": false,
     "input": [
      "import pandas as pd\n",
      "import numpy as np\n",
      "import collections as coll\n",
      "import json\n",
      "import csv\n",
      "from pandas.io.json import *"
     ],
     "language": "python",
     "metadata": {},
     "outputs": [],
     "prompt_number": 1
    },
    {
     "cell_type": "code",
     "collapsed": false,
     "input": [
      "# Define variables\n",
      "BUSINESS = 'yelp_academic_dataset_business.json'\n",
      "MIN_REVIEWS = 10\n",
      "CITY = 'Las Vegas'\n",
      "# CITY_DATA_PATH = 'free-zipcode-database-Primary.csv'\n",
      "CITY_DATA_PATH = 'zip_code_database.csv'\n",
      "useful_columns = ['attributes.Price Range', 'categories', 'name', 'review_count', 'stars', 'latitude', 'longitude', 'zipcode']\n",
      "AREACODE = { 'Las Vegas': '702' }"
     ],
     "language": "python",
     "metadata": {},
     "outputs": [],
     "prompt_number": 2
    },
    {
     "cell_type": "code",
     "collapsed": false,
     "input": [
      "# Read in data\n",
      "data = []\n",
      "with open( BUSINESS ) as f:\n",
      "    for line in f:        \n",
      "        data.append(json.loads(line))"
     ],
     "language": "python",
     "metadata": {},
     "outputs": [],
     "prompt_number": 3
    },
    {
     "cell_type": "code",
     "collapsed": false,
     "input": [
      "# Filter data entries by number of reviews and city\n",
      "data = filter(lambda x: x['review_count'] >= MIN_REVIEWS, data)\n",
      "data = filter(lambda x: x['city'] == CITY, data)\n",
      "\n",
      "# Retrieve and set business zipcode as new attribute\n",
      "def set_zipcodes(x):\n",
      "    addr = x['full_address']\n",
      "    z = addr[-5:]\n",
      "    x['zipcode'] = z\n",
      "    \n",
      "_ = map(lambda x: set_zipcodes(x), data)"
     ],
     "language": "python",
     "metadata": {},
     "outputs": [],
     "prompt_number": 4
    },
    {
     "cell_type": "code",
     "collapsed": false,
     "input": [
      "# Retrieve city specific data\n",
      "df = pd.DataFrame.from_csv(CITY_DATA_PATH)\n",
      "# df.head()\n",
      "# Get list of valid zipcodes from the city\n",
      "cityData = df[(df['primary_city'] == CITY) & (df['type'] == 'STANDARD') & (df['area_codes'] == AREACODE[CITY])].ix[:,['latitude','longitude','estimated_population']]\n",
      "cityData.head()"
     ],
     "language": "python",
     "metadata": {},
     "outputs": [
      {
       "html": [
        "<div style=\"max-height:1000px;max-width:1500px;overflow:auto;\">\n",
        "<table border=\"1\" class=\"dataframe\">\n",
        "  <thead>\n",
        "    <tr style=\"text-align: right;\">\n",
        "      <th></th>\n",
        "      <th>latitude</th>\n",
        "      <th>longitude</th>\n",
        "      <th>estimated_population</th>\n",
        "    </tr>\n",
        "    <tr>\n",
        "      <th>zip</th>\n",
        "      <th></th>\n",
        "      <th></th>\n",
        "      <th></th>\n",
        "    </tr>\n",
        "  </thead>\n",
        "  <tbody>\n",
        "    <tr>\n",
        "      <th>89101</th>\n",
        "      <td> 36.17</td>\n",
        "      <td>-115.12</td>\n",
        "      <td> 29222</td>\n",
        "    </tr>\n",
        "    <tr>\n",
        "      <th>89102</th>\n",
        "      <td> 36.14</td>\n",
        "      <td>-115.18</td>\n",
        "      <td> 28031</td>\n",
        "    </tr>\n",
        "    <tr>\n",
        "      <th>89103</th>\n",
        "      <td> 36.11</td>\n",
        "      <td>-115.21</td>\n",
        "      <td> 36409</td>\n",
        "    </tr>\n",
        "    <tr>\n",
        "      <th>89104</th>\n",
        "      <td> 36.15</td>\n",
        "      <td>-115.11</td>\n",
        "      <td> 31514</td>\n",
        "    </tr>\n",
        "    <tr>\n",
        "      <th>89106</th>\n",
        "      <td> 36.18</td>\n",
        "      <td>-115.17</td>\n",
        "      <td> 18467</td>\n",
        "    </tr>\n",
        "  </tbody>\n",
        "</table>\n",
        "</div>"
       ],
       "metadata": {},
       "output_type": "pyout",
       "prompt_number": 6,
       "text": [
        "       latitude  longitude  estimated_population\n",
        "zip                                             \n",
        "89101     36.17    -115.12                 29222\n",
        "89102     36.14    -115.18                 28031\n",
        "89103     36.11    -115.21                 36409\n",
        "89104     36.15    -115.11                 31514\n",
        "89106     36.18    -115.17                 18467"
       ]
      }
     ],
     "prompt_number": 6
    },
    {
     "cell_type": "code",
     "collapsed": false,
     "input": [
      "# Compute additional attributes from data: total number of businesses, complete list of categories, total review count by zipcode\n",
      "c = coll.Counter(map(lambda x: x['zipcode'], data))\n",
      "# c.most_common(40)\n",
      "df = json_normalize(data)    # converts data list/dictionary to pd.DataFrame\n",
      "# df.columns.values\n",
      "dfreduced = df[useful_columns]\n",
      "group_by_zip = dfreduced.groupby('zipcode')\n",
      "group_by_zip_means = group_by_zip.mean()\n",
      "group_by_zip_sum = group_by_zip.sum()\n",
      "review_count_sum = group_by_zip_sum.ix[:,['review_count']]\n",
      "categories_sum = group_by_zip.apply(lambda x: reduce(lambda x,y: x+y, x['categories']))\n",
      "# max(categories_sum.map(lambda x: len(x)))\n",
      "categories_sum = DataFrame(categories_sum, columns=['categories'])\n",
      "dfc = DataFrame.from_dict(c, orient='index')\n",
      "group_by_zip_count_means = dfc.join(group_by_zip_means).ix[:,[0, 'attributes.Price Range', 'stars']]\n",
      "group_by_zip_count_means.columns = ['count', 'price', 'stars']\n",
      "yelpData = group_by_zip_count_means.join(review_count_sum).join(categories_sum)\n",
      "yelpData.head()"
     ],
     "language": "python",
     "metadata": {},
     "outputs": [
      {
       "html": [
        "<div style=\"max-height:1000px;max-width:1500px;overflow:auto;\">\n",
        "<table border=\"1\" class=\"dataframe\">\n",
        "  <thead>\n",
        "    <tr style=\"text-align: right;\">\n",
        "      <th></th>\n",
        "      <th>count</th>\n",
        "      <th>price</th>\n",
        "      <th>stars</th>\n",
        "      <th>review_count</th>\n",
        "      <th>categories</th>\n",
        "    </tr>\n",
        "  </thead>\n",
        "  <tbody>\n",
        "    <tr>\n",
        "      <th>89199</th>\n",
        "      <td>   2</td>\n",
        "      <td> 2.000000</td>\n",
        "      <td> 3.750000</td>\n",
        "      <td>  162</td>\n",
        "      <td> [Post Offices, Public Services &amp; Government, A...</td>\n",
        "    </tr>\n",
        "    <tr>\n",
        "      <th>89148</th>\n",
        "      <td> 128</td>\n",
        "      <td> 1.600000</td>\n",
        "      <td> 3.925781</td>\n",
        "      <td> 6119</td>\n",
        "      <td> [Doctors, Health &amp; Medical, Obstetricians &amp; Gy...</td>\n",
        "    </tr>\n",
        "    <tr>\n",
        "      <th>89149</th>\n",
        "      <td> 115</td>\n",
        "      <td> 1.618557</td>\n",
        "      <td> 3.665217</td>\n",
        "      <td> 4991</td>\n",
        "      <td> [Pet Services, Pet Groomers, Pet Training, Pet...</td>\n",
        "    </tr>\n",
        "    <tr>\n",
        "      <th>89162</th>\n",
        "      <td>  14</td>\n",
        "      <td> 2.400000</td>\n",
        "      <td> 3.678571</td>\n",
        "      <td>  749</td>\n",
        "      <td> [Arts &amp; Entertainment, Fashion, Shopping, Mexi...</td>\n",
        "    </tr>\n",
        "    <tr>\n",
        "      <th>89150</th>\n",
        "      <td>   1</td>\n",
        "      <td> 3.000000</td>\n",
        "      <td> 3.000000</td>\n",
        "      <td>  101</td>\n",
        "      <td>                            [Restaurants, Italian]</td>\n",
        "    </tr>\n",
        "  </tbody>\n",
        "</table>\n",
        "</div>"
       ],
       "metadata": {},
       "output_type": "pyout",
       "prompt_number": 7,
       "text": [
        "       count     price     stars  review_count  \\\n",
        "89199      2  2.000000  3.750000           162   \n",
        "89148    128  1.600000  3.925781          6119   \n",
        "89149    115  1.618557  3.665217          4991   \n",
        "89162     14  2.400000  3.678571           749   \n",
        "89150      1  3.000000  3.000000           101   \n",
        "\n",
        "                                              categories  \n",
        "89199  [Post Offices, Public Services & Government, A...  \n",
        "89148  [Doctors, Health & Medical, Obstetricians & Gy...  \n",
        "89149  [Pet Services, Pet Groomers, Pet Training, Pet...  \n",
        "89162  [Arts & Entertainment, Fashion, Shopping, Mexi...  \n",
        "89150                             [Restaurants, Italian]  "
       ]
      }
     ],
     "prompt_number": 7
    },
    {
     "cell_type": "code",
     "collapsed": false,
     "input": [
      "def RepresentsInt(s):\n",
      "    try: \n",
      "        int(s)\n",
      "        return True\n",
      "    except ValueError:\n",
      "        return False\n",
      "newidx = []\n",
      "for x in yelpData.index:\n",
      "    if RepresentsInt(x):\n",
      "        newidx.append(int(x))\n",
      "    else:\n",
      "        newidx.append(x)\n",
      "yelpData.index = newidx # in order to merge with cityData, otherwise int vs unicode\n",
      "group_by_zip_merged = cityData.join(yelpData, how='inner')\n",
      "group_by_zip_merged.head()"
     ],
     "language": "python",
     "metadata": {},
     "outputs": [
      {
       "html": [
        "<div style=\"max-height:1000px;max-width:1500px;overflow:auto;\">\n",
        "<table border=\"1\" class=\"dataframe\">\n",
        "  <thead>\n",
        "    <tr style=\"text-align: right;\">\n",
        "      <th></th>\n",
        "      <th>latitude</th>\n",
        "      <th>longitude</th>\n",
        "      <th>estimated_population</th>\n",
        "      <th>count</th>\n",
        "      <th>price</th>\n",
        "      <th>stars</th>\n",
        "      <th>review_count</th>\n",
        "      <th>categories</th>\n",
        "    </tr>\n",
        "  </thead>\n",
        "  <tbody>\n",
        "    <tr>\n",
        "      <th>89199</th>\n",
        "      <td> 36.15</td>\n",
        "      <td>-115.10</td>\n",
        "      <td>     0</td>\n",
        "      <td>   2</td>\n",
        "      <td> 2.000000</td>\n",
        "      <td> 3.750000</td>\n",
        "      <td>  162</td>\n",
        "      <td> [Post Offices, Public Services &amp; Government, A...</td>\n",
        "    </tr>\n",
        "    <tr>\n",
        "      <th>89148</th>\n",
        "      <td> 36.06</td>\n",
        "      <td>-115.31</td>\n",
        "      <td> 29574</td>\n",
        "      <td> 128</td>\n",
        "      <td> 1.600000</td>\n",
        "      <td> 3.925781</td>\n",
        "      <td> 6119</td>\n",
        "      <td> [Doctors, Health &amp; Medical, Obstetricians &amp; Gy...</td>\n",
        "    </tr>\n",
        "    <tr>\n",
        "      <th>89149</th>\n",
        "      <td> 36.28</td>\n",
        "      <td>-115.28</td>\n",
        "      <td> 22963</td>\n",
        "      <td> 115</td>\n",
        "      <td> 1.618557</td>\n",
        "      <td> 3.665217</td>\n",
        "      <td> 4991</td>\n",
        "      <td> [Pet Services, Pet Groomers, Pet Training, Pet...</td>\n",
        "    </tr>\n",
        "    <tr>\n",
        "      <th>89110</th>\n",
        "      <td> 36.17</td>\n",
        "      <td>-115.05</td>\n",
        "      <td> 54825</td>\n",
        "      <td>  31</td>\n",
        "      <td> 1.321429</td>\n",
        "      <td> 3.387097</td>\n",
        "      <td>  664</td>\n",
        "      <td> [Mexican, Restaurants, Restaurants, Italian, J...</td>\n",
        "    </tr>\n",
        "    <tr>\n",
        "      <th>89113</th>\n",
        "      <td> 36.06</td>\n",
        "      <td>-115.27</td>\n",
        "      <td> 18126</td>\n",
        "      <td> 152</td>\n",
        "      <td> 1.622642</td>\n",
        "      <td> 3.674342</td>\n",
        "      <td> 7531</td>\n",
        "      <td> [Doctors, Ear Nose &amp; Throat, Health &amp; Medical,...</td>\n",
        "    </tr>\n",
        "  </tbody>\n",
        "</table>\n",
        "</div>"
       ],
       "metadata": {},
       "output_type": "pyout",
       "prompt_number": 12,
       "text": [
        "       latitude  longitude  estimated_population  count     price     stars  \\\n",
        "89199     36.15    -115.10                     0      2  2.000000  3.750000   \n",
        "89148     36.06    -115.31                 29574    128  1.600000  3.925781   \n",
        "89149     36.28    -115.28                 22963    115  1.618557  3.665217   \n",
        "89110     36.17    -115.05                 54825     31  1.321429  3.387097   \n",
        "89113     36.06    -115.27                 18126    152  1.622642  3.674342   \n",
        "\n",
        "       review_count                                         categories  \n",
        "89199           162  [Post Offices, Public Services & Government, A...  \n",
        "89148          6119  [Doctors, Health & Medical, Obstetricians & Gy...  \n",
        "89149          4991  [Pet Services, Pet Groomers, Pet Training, Pet...  \n",
        "89110           664  [Mexican, Restaurants, Restaurants, Italian, J...  \n",
        "89113          7531  [Doctors, Ear Nose & Throat, Health & Medical,...  "
       ]
      }
     ],
     "prompt_number": 12
    },
    {
     "cell_type": "code",
     "collapsed": false,
     "input": [
      "CITY.strip().replace(\" \", \"\")"
     ],
     "language": "python",
     "metadata": {},
     "outputs": [
      {
       "metadata": {},
       "output_type": "pyout",
       "prompt_number": 14,
       "text": [
        "'LasVegas'"
       ]
      }
     ],
     "prompt_number": 14
    },
    {
     "cell_type": "code",
     "collapsed": false,
     "input": [
      "def make_json_from_df(filename, df):\n",
      "    df.to_json(filename+'.json', orient='index')\n",
      "    \n",
      "make_json_from_df(CITY.strip().replace(\" \", \"\") + 'Data',group_by_zip_merged)"
     ],
     "language": "python",
     "metadata": {},
     "outputs": [],
     "prompt_number": 15
    },
    {
     "cell_type": "code",
     "collapsed": false,
     "input": [
      "print '\\n\\n'.join(str(l) for l in data[:10])"
     ],
     "language": "python",
     "metadata": {},
     "outputs": [
      {
       "output_type": "stream",
       "stream": "stdout",
       "text": [
        "{u'city': u'Phoenix', u'review_count': 7, u'name': u'Eric Goldberg, MD', u'neighborhoods': [], u'type': u'business', u'business_id': u'vcNAWiLM4dR7D2nwwJ7nCA', u'full_address': u'4840 E Indian School Rd\\nSte 101\\nPhoenix, AZ 85018', u'hours': {u'Thursday': {u'close': u'17:00', u'open': u'08:00'}, u'Tuesday': {u'close': u'17:00', u'open': u'08:00'}, u'Friday': {u'close': u'17:00', u'open': u'08:00'}, u'Wednesday': {u'close': u'17:00', u'open': u'08:00'}, u'Monday': {u'close': u'17:00', u'open': u'08:00'}}, u'state': u'AZ', u'longitude': -111.983758, u'stars': 3.5, u'latitude': 33.499313, u'attributes': {u'By Appointment Only': True}, u'open': True, u'categories': [u'Doctors', u'Health & Medical']}\n",
        "\n",
        "{u'city': u'De Forest', u'review_count': 26, u'name': u'Pine Cone Restaurant', u'neighborhoods': [], u'type': u'business', u'business_id': u'JwUE5GmEO-sH1FuwJgKBlQ', u'full_address': u'6162 US Highway 51\\nDe Forest, WI 53532', u'hours': {}, u'state': u'WI', u'longitude': -89.335844, u'stars': 4.0, u'latitude': 43.238893, u'attributes': {u'Take-out': True, u'Price Range': 1, u'Outdoor Seating': False, u'Caters': False, u'Noise Level': u'average', u'Parking': {u'garage': False, u'street': False, u'validated': False, u'lot': True, u'valet': False}, u'Delivery': False, u'Attire': u'casual', u'Has TV': True, u'Good For': {u'dessert': False, u'latenight': False, u'lunch': True, u'dinner': False, u'brunch': False, u'breakfast': False}, u'Takes Reservations': False, u'Ambience': {u'romantic': False, u'intimate': False, u'touristy': False, u'hipster': False, u'divey': False, u'classy': False, u'trendy': False, u'upscale': False, u'casual': False}, u'Waiter Service': True, u'Accepts Credit Cards': True, u'Good for Kids': True, u'Good For Groups': True, u'Alcohol': u'none'}, u'open': True, u'categories': [u'Restaurants']}\n",
        "\n",
        "{u'city': u'De Forest', u'review_count': 16, u'name': u'Deforest Family Restaurant', u'neighborhoods': [], u'type': u'business', u'business_id': u'uGykseHzyS5xAMWoN6YUqA', u'full_address': u'505 W North St\\nDe Forest, WI 53532', u'hours': {u'Monday': {u'close': u'22:00', u'open': u'06:00'}, u'Tuesday': {u'close': u'22:00', u'open': u'06:00'}, u'Friday': {u'close': u'22:00', u'open': u'06:00'}, u'Wednesday': {u'close': u'22:00', u'open': u'06:00'}, u'Thursday': {u'close': u'22:00', u'open': u'06:00'}, u'Sunday': {u'close': u'21:00', u'open': u'06:00'}, u'Saturday': {u'close': u'22:00', u'open': u'06:00'}}, u'state': u'WI', u'longitude': -89.353437, u'stars': 4.0, u'latitude': 43.252267, u'attributes': {u'Take-out': True, u'Outdoor Seating': False, u'Caters': False, u'Noise Level': u'quiet', u'Parking': {u'garage': False, u'street': False, u'validated': False, u'lot': True, u'valet': False}, u'Delivery': False, u'Ambience': {u'romantic': False, u'intimate': False, u'touristy': False, u'hipster': False, u'divey': False, u'classy': False, u'trendy': False, u'upscale': False, u'casual': True}, u'Has TV': True, u'Good For': {u'dessert': False, u'latenight': False, u'lunch': False, u'dinner': False, u'brunch': True, u'breakfast': False}, u'Takes Reservations': False, u'Attire': u'casual', u'Waiter Service': True, u'Accepts Credit Cards': True, u'Good for Kids': True, u'Good For Groups': True, u'Price Range': 1}, u'open': True, u'categories': [u'American (Traditional)', u'Restaurants']}\n",
        "\n",
        "{u'city': u'De Forest', u'review_count': 7, u'name': u\"Culver's\", u'neighborhoods': [], u'type': u'business', u'business_id': u'LRKJF43s9-3jG9Lgx4zODg', u'full_address': u'4910 County Rd V\\nDe Forest, WI 53532', u'hours': {u'Monday': {u'close': u'22:00', u'open': u'10:30'}, u'Tuesday': {u'close': u'22:00', u'open': u'10:30'}, u'Friday': {u'close': u'22:00', u'open': u'10:30'}, u'Wednesday': {u'close': u'22:00', u'open': u'10:30'}, u'Thursday': {u'close': u'22:00', u'open': u'10:30'}, u'Sunday': {u'close': u'22:00', u'open': u'10:30'}, u'Saturday': {u'close': u'22:00', u'open': u'10:30'}}, u'state': u'WI', u'longitude': -89.374983, u'stars': 4.5, u'latitude': 43.251045, u'attributes': {u'Take-out': True, u'Accepts Credit Cards': True, u'Price Range': 1, u'Takes Reservations': False, u'Delivery': False, u'Parking': {u'garage': False, u'street': False, u'validated': False, u'lot': True, u'valet': False}, u'Attire': u'casual', u'Wi-Fi': u'free', u'Good For Groups': True, u'Wheelchair Accessible': True}, u'open': True, u'categories': [u'Food', u'Ice Cream & Frozen Yogurt', u'Fast Food', u'Restaurants']}\n",
        "\n",
        "{u'city': u'De Forest', u'review_count': 3, u'name': u'Chang Jiang Chinese Kitchen', u'neighborhoods': [], u'type': u'business', u'business_id': u'RgDg-k9S5YD_BaxMckifkg', u'full_address': u'631 S Main St\\nDe Forest, WI 53532', u'hours': {u'Monday': {u'close': u'22:00', u'open': u'11:00'}, u'Tuesday': {u'close': u'22:00', u'open': u'11:00'}, u'Friday': {u'close': u'22:30', u'open': u'11:00'}, u'Wednesday': {u'close': u'22:00', u'open': u'11:00'}, u'Thursday': {u'close': u'22:00', u'open': u'11:00'}, u'Sunday': {u'close': u'21:00', u'open': u'16:00'}, u'Saturday': {u'close': u'22:30', u'open': u'11:00'}}, u'state': u'WI', u'longitude': -89.3437217, u'stars': 4.0, u'latitude': 43.2408748, u'attributes': {u'Take-out': True, u'Has TV': False, u'Outdoor Seating': False, u'Attire': u'casual'}, u'open': True, u'categories': [u'Chinese', u'Restaurants']}\n",
        "\n",
        "{u'city': u'Mc Farland', u'review_count': 10, u'name': u'Charter Communications', u'neighborhoods': [], u'type': u'business', u'business_id': u'oLctHIA1AxmsgOuu4dM6Vw', u'full_address': u'4156 County Rd B\\nMc Farland, WI 53558', u'hours': {}, u'state': u'WI', u'longitude': -89.3229199, u'stars': 1.5, u'latitude': 42.9685074, u'attributes': {}, u'open': False, u'categories': [u'Television Stations', u'Mass Media']}\n",
        "\n",
        "{u'city': u'Mc Farland', u'review_count': 4, u'name': u'Air Quality Systems', u'neighborhoods': [], u'type': u'business', u'business_id': u'ZW2WeP2Hp20tq0RG1NFkoQ', u'full_address': u'4709 Triangle St\\nMc Farland, WI 53558', u'hours': {}, u'state': u'WI', u'longitude': -89.2985442, u'stars': 2.0, u'latitude': 43.0303561, u'attributes': {}, u'open': True, u'categories': [u'Home Services', u'Heating & Air Conditioning/HVAC']}\n",
        "\n",
        "{u'city': u'Mc Farland', u'review_count': 4, u'name': u'McFarland Public Library', u'neighborhoods': [], u'type': u'business', u'business_id': u'95p9Xg358BezJyk1wqzzyg', u'full_address': u'5114 Farwell St\\nMc Farland, WI 53558', u'hours': {u'Monday': {u'close': u'20:00', u'open': u'09:00'}, u'Tuesday': {u'close': u'20:00', u'open': u'09:00'}, u'Friday': {u'close': u'17:30', u'open': u'09:00'}, u'Wednesday': {u'close': u'20:00', u'open': u'09:00'}, u'Thursday': {u'close': u'20:00', u'open': u'09:00'}, u'Sunday': {u'close': u'15:00', u'open': u'12:00'}, u'Saturday': {u'close': u'17:30', u'open': u'09:00'}}, u'state': u'WI', u'longitude': -89.294175, u'stars': 2.5, u'latitude': 43.014093, u'attributes': {u'Wi-Fi': u'free'}, u'open': True, u'categories': [u'Libraries', u'Public Services & Government']}\n",
        "\n",
        "{u'city': u'Mc Farland', u'review_count': 33, u'name': u'Green Lantern Restaurant', u'neighborhoods': [], u'type': u'business', u'business_id': u'rdAdANPNOcvUtoFgcaY9KA', u'full_address': u'4412 Siggelkow Rd\\nMc Farland, WI 53558', u'hours': {u'Monday': {u'close': u'02:00', u'open': u'06:00'}, u'Tuesday': {u'close': u'02:00', u'open': u'06:00'}, u'Friday': {u'close': u'02:00', u'open': u'06:00'}, u'Wednesday': {u'close': u'02:00', u'open': u'06:00'}, u'Thursday': {u'close': u'02:00', u'open': u'06:00'}, u'Sunday': {u'close': u'02:00', u'open': u'07:00'}, u'Saturday': {u'close': u'02:00', u'open': u'07:00'}}, u'state': u'WI', u'longitude': -89.3061344, u'stars': 3.5, u'latitude': 43.0256436, u'attributes': {u'Take-out': True, u'Accepts Credit Cards': True, u'Price Range': 2, u'Outdoor Seating': False, u'Noise Level': u'average', u'Parking': {u'garage': False, u'street': False, u'validated': False, u'lot': True, u'valet': False}, u'Good For Groups': True, u'Delivery': False, u'Dogs Allowed': False, u'Attire': u'casual', u'Has TV': True, u'Good For': {u'dessert': False, u'latenight': False, u'lunch': False, u'dinner': True, u'breakfast': False, u'brunch': False}, u'Takes Reservations': True, u'Ambience': {u'romantic': False, u'intimate': False, u'classy': False, u'hipster': False, u'divey': True, u'touristy': False, u'trendy': False, u'upscale': False, u'casual': False}, u'Waiter Service': True, u'Wi-Fi': u'free', u'Good for Kids': True, u'Alcohol': u'full_bar', u'Wheelchair Accessible': True}, u'open': True, u'categories': [u'American (Traditional)', u'Restaurants']}\n",
        "\n",
        "{u'city': u'Mc Farland', u'review_count': 3, u'name': u'Spartan Animal Hospital', u'neighborhoods': [], u'type': u'business', u'business_id': u'ZlhAvs_6ryi4_efZ1SpMbg', u'full_address': u'4811 Larson Beach Rd\\nMc Farland, WI 53558', u'hours': {u'Monday': {u'close': u'18:00', u'open': u'07:30'}, u'Tuesday': {u'close': u'18:00', u'open': u'07:30'}, u'Friday': {u'close': u'18:00', u'open': u'07:30'}, u'Wednesday': {u'close': u'18:00', u'open': u'07:30'}, u'Thursday': {u'close': u'18:00', u'open': u'07:30'}, u'Saturday': {u'close': u'12:00', u'open': u'08:00'}}, u'state': u'WI', u'longitude': -89.299119, u'stars': 4.5, u'latitude': 43.017124, u'attributes': {}, u'open': True, u'categories': [u'Veterinarians', u'Pets']}\n"
       ]
      }
     ],
     "prompt_number": 4
    },
    {
     "cell_type": "code",
     "collapsed": false,
     "input": [
      "b = data[1]\n",
      "def print_type(key):\n",
      "    print b[key], type(b[key])\n",
      "    \n",
      "print_type('stars')"
     ],
     "language": "python",
     "metadata": {},
     "outputs": [
      {
       "output_type": "stream",
       "stream": "stdout",
       "text": [
        "2.5 <type 'float'>\n"
       ]
      }
     ],
     "prompt_number": 139
    },
    {
     "cell_type": "code",
     "collapsed": false,
     "input": [
      "DATA_PATH = 'LasVegasDataTwoDigitsDeleteDuplicates_subset.json'\n",
      "\n",
      "with open( DATA_PATH ) as f:      \n",
      "    value = f.read().replace('\\n', '')\n",
      "    data = json.loads(value)"
     ],
     "language": "python",
     "metadata": {},
     "outputs": [],
     "prompt_number": 3
    },
    {
     "cell_type": "code",
     "collapsed": false,
     "input": [
      "l = [['a'], ['b']]\n",
      "reduce(lambda x,y: x+y, l)"
     ],
     "language": "python",
     "metadata": {},
     "outputs": [
      {
       "metadata": {},
       "output_type": "pyout",
       "prompt_number": 33,
       "text": [
        "['a', 'b']"
       ]
      }
     ],
     "prompt_number": 33
    },
    {
     "cell_type": "code",
     "collapsed": false,
     "input": [
      "def make_csv_from_list(filename, mylist):\n",
      "    with open(filename+'.csv', 'wb') as csvfile:\n",
      "        spamwriter = csv.writer(csvfile, quoting=csv.QUOTE_ALL)\n",
      "        spamwriter.writerow(mylist)\n",
      "\n",
      "# make_csv('means_by_zipcodes', group_by_zip_means)"
     ],
     "language": "python",
     "metadata": {},
     "outputs": [],
     "prompt_number": 12
    },
    {
     "cell_type": "code",
     "collapsed": true,
     "input": [
      "def get_neighborhoods(x):\n",
      "    if len(x['neighborhoods']):\n",
      "        return x['neighborhoods'][0]\n",
      "\n",
      "len(filter(lambda x: len(x['neighborhoods']) > 0, data))\n",
      "set( map(lambda x: get_neighborhoods(x), data) )"
     ],
     "language": "python",
     "metadata": {},
     "outputs": [
      {
       "metadata": {},
       "output_type": "pyout",
       "prompt_number": 85,
       "text": [
        "{None,\n",
        " u'Anthem',\n",
        " u'Centennial',\n",
        " u'Chinatown',\n",
        " u'Downtown',\n",
        " u'Eastside',\n",
        " u'Northwest',\n",
        " u'South Summerlin',\n",
        " u'Southeast',\n",
        " u'Southwest',\n",
        " u'Spring Valley',\n",
        " u'Summerlin',\n",
        " u'Sunrise',\n",
        " u'The Lakes',\n",
        " u'The Strip',\n",
        " u'University',\n",
        " u'Westside'}"
       ]
      }
     ],
     "prompt_number": 85
    },
    {
     "cell_type": "code",
     "collapsed": false,
     "input": [
      "data = [{'state': 'Florida',\n",
      "             'shortname': 'FL',\n",
      "             'info': {\n",
      "                  'governor': 'Rick Scott'\n",
      "             },\n",
      "             'counties': [{'name': 'Dade', 'population': 12345},\n",
      "                         {'name': 'Broward', 'population': 40000},\n",
      "                         {'name': 'Palm Beach', 'population': 60000}]},\n",
      "            {'state': 'Ohio',\n",
      "             'shortname': 'OH',\n",
      "             'info': {\n",
      "                  'governor': 'John Kasich'\n",
      "             },\n",
      "             'counties': [{'name': 'Summit', 'population': 1234},\n",
      "                          {'name': 'Cuyahoga', 'population': 1337}]}]\n",
      "json_normalize(data, 'counties', ['state', 'shortname',\n",
      "                                          ['info', 'governor']])"
     ],
     "language": "python",
     "metadata": {},
     "outputs": [
      {
       "html": [
        "<div style=\"max-height:1000px;max-width:1500px;overflow:auto;\">\n",
        "<table border=\"1\" class=\"dataframe\">\n",
        "  <thead>\n",
        "    <tr style=\"text-align: right;\">\n",
        "      <th></th>\n",
        "      <th>name</th>\n",
        "      <th>population</th>\n",
        "      <th>info.governor</th>\n",
        "      <th>state</th>\n",
        "      <th>shortname</th>\n",
        "    </tr>\n",
        "  </thead>\n",
        "  <tbody>\n",
        "    <tr>\n",
        "      <th>0</th>\n",
        "      <td>       Dade</td>\n",
        "      <td> 12345</td>\n",
        "      <td>  Rick Scott</td>\n",
        "      <td> Florida</td>\n",
        "      <td> FL</td>\n",
        "    </tr>\n",
        "    <tr>\n",
        "      <th>1</th>\n",
        "      <td>    Broward</td>\n",
        "      <td> 40000</td>\n",
        "      <td>  Rick Scott</td>\n",
        "      <td> Florida</td>\n",
        "      <td> FL</td>\n",
        "    </tr>\n",
        "    <tr>\n",
        "      <th>2</th>\n",
        "      <td> Palm Beach</td>\n",
        "      <td> 60000</td>\n",
        "      <td>  Rick Scott</td>\n",
        "      <td> Florida</td>\n",
        "      <td> FL</td>\n",
        "    </tr>\n",
        "    <tr>\n",
        "      <th>3</th>\n",
        "      <td>     Summit</td>\n",
        "      <td>  1234</td>\n",
        "      <td> John Kasich</td>\n",
        "      <td>    Ohio</td>\n",
        "      <td> OH</td>\n",
        "    </tr>\n",
        "    <tr>\n",
        "      <th>4</th>\n",
        "      <td>   Cuyahoga</td>\n",
        "      <td>  1337</td>\n",
        "      <td> John Kasich</td>\n",
        "      <td>    Ohio</td>\n",
        "      <td> OH</td>\n",
        "    </tr>\n",
        "  </tbody>\n",
        "</table>\n",
        "</div>"
       ],
       "metadata": {},
       "output_type": "pyout",
       "prompt_number": 34,
       "text": [
        "         name  population info.governor    state shortname\n",
        "0        Dade       12345    Rick Scott  Florida        FL\n",
        "1     Broward       40000    Rick Scott  Florida        FL\n",
        "2  Palm Beach       60000    Rick Scott  Florida        FL\n",
        "3      Summit        1234   John Kasich     Ohio        OH\n",
        "4    Cuyahoga        1337   John Kasich     Ohio        OH"
       ]
      }
     ],
     "prompt_number": 34
    }
   ],
   "metadata": {}
  }
 ]
}